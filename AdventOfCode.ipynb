{
 "cells": [
  {
   "cell_type": "markdown",
   "metadata": {},
   "source": [
    "# Day 2"
   ]
  },
  {
   "cell_type": "markdown",
   "metadata": {},
   "source": [
    "## Part 2"
   ]
  },
  {
   "cell_type": "code",
   "execution_count": 1,
   "metadata": {},
   "outputs": [
    {
     "name": "stdout",
     "output_type": "stream",
     "text": [
      "1251263225\n"
     ]
    }
   ],
   "source": [
    "with open(\"inputs/input2.txt\", 'r') as f:\n",
    "    width = 0\n",
    "    height = 0\n",
    "    aim = 0\n",
    "    for line in f:\n",
    "        instr = line.strip(\"\\n\").split(\" \")\n",
    "        direc, amt = instr[0], int(instr[1])\n",
    "        \n",
    "        if direc == \"forward\":\n",
    "            width += amt\n",
    "            height += amt * aim\n",
    "        elif direc == \"up\":\n",
    "            aim -= amt\n",
    "        elif direc == \"down\":\n",
    "            aim += amt\n",
    "        \n",
    "    print(height * width)"
   ]
  },
  {
   "cell_type": "markdown",
   "metadata": {},
   "source": [
    "# Day 3"
   ]
  },
  {
   "cell_type": "markdown",
   "metadata": {},
   "source": [
    "## Part 1"
   ]
  },
  {
   "cell_type": "code",
   "execution_count": 2,
   "metadata": {},
   "outputs": [
    {
     "name": "stdout",
     "output_type": "stream",
     "text": [
      "1307354\n"
     ]
    }
   ],
   "source": [
    "with open(\"inputs/input3.txt\", 'r') as f:\n",
    "    line_list = []\n",
    "    for line in f:\n",
    "        line_list.append(list(line.strip(\"\\n\")))\n",
    "        \n",
    "    sum_list = [0] * len(line_list[0])\n",
    "    \n",
    "    for line in line_list:\n",
    "        sum_list = [a + int(b) for a, b in zip(sum_list, line)]\n",
    "    \n",
    "    gamma_list = [0] * len(sum_list)\n",
    "    for i in range(len(sum_list)):\n",
    "        if sum_list[i] > len(line_list) / 2:\n",
    "            gamma_list[i] = 1\n",
    "    gamma_str = \"\".join(str(e) for e in gamma_list)\n",
    "    gamma_num = int(gamma_str, 2)\n",
    "    eps_str = ''.join('1' if x == '0' else '0' for x in gamma_str)\n",
    "    eps_num = int(eps_str, 2)\n",
    "    \n",
    "    print(eps_num * gamma_num)"
   ]
  },
  {
   "cell_type": "markdown",
   "metadata": {},
   "source": [
    "## Part 2"
   ]
  },
  {
   "cell_type": "code",
   "execution_count": 3,
   "metadata": {},
   "outputs": [],
   "source": [
    "import numpy as np\n",
    "import pandas as pd"
   ]
  },
  {
   "cell_type": "code",
   "execution_count": 4,
   "metadata": {},
   "outputs": [],
   "source": [
    "def get_maj_num(df, index):\n",
    "    sum_list = df.sum(axis=0)\n",
    "    maj_num = 1 if sum_list[index] >= len(df) / 2 else 0\n",
    "    return maj_num"
   ]
  },
  {
   "cell_type": "code",
   "execution_count": 5,
   "metadata": {},
   "outputs": [
    {
     "name": "stdout",
     "output_type": "stream",
     "text": [
      "482500\n"
     ]
    }
   ],
   "source": [
    "with open(\"inputs/input3.txt\", 'r') as f:\n",
    "    line_list = []\n",
    "    for line in f:\n",
    "        line_list.append([int(x) for x in list(line.strip(\"\\n\"))])\n",
    "\n",
    "df = pd.DataFrame(line_list)\n",
    "ogr_df = df.copy()\n",
    "csr_df = df.copy()\n",
    "\n",
    "for i in range(len(line_list[0])):\n",
    "        \n",
    "    if len(ogr_df) > 1:\n",
    "        maj_num = get_maj_num(ogr_df, i)\n",
    "        ogr_df = ogr_df[ogr_df[i] == maj_num]\n",
    "    if len(csr_df) > 1:\n",
    "        maj_num = get_maj_num(csr_df, i)\n",
    "        csr_df = csr_df[csr_df[i] != maj_num]\n",
    "        \n",
    "    if len(csr_df) == 1 and len(ogr_df) == 1:\n",
    "        break\n",
    "\n",
    "ogr_num = int(\"\".join(str(x) for x in ogr_df.iloc[0].tolist()), 2)\n",
    "csr_num = int(\"\".join(str(x) for x in csr_df.iloc[0].tolist()), 2)\n",
    "print(ogr_num * csr_num)"
   ]
  },
  {
   "cell_type": "markdown",
   "metadata": {},
   "source": [
    "# Day 4"
   ]
  },
  {
   "cell_type": "markdown",
   "metadata": {},
   "source": [
    "## Part 1"
   ]
  },
  {
   "cell_type": "code",
   "execution_count": 6,
   "metadata": {},
   "outputs": [],
   "source": [
    "import numpy as np"
   ]
  },
  {
   "cell_type": "code",
   "execution_count": 7,
   "metadata": {},
   "outputs": [],
   "source": [
    "def CheckWin(board):\n",
    "    horz = np.sum(board, axis=1)\n",
    "    vert = np.sum(board, axis=0)\n",
    "    if -5 in horz or -5 in vert:\n",
    "        return True\n",
    "    return False"
   ]
  },
  {
   "cell_type": "code",
   "execution_count": 8,
   "metadata": {},
   "outputs": [
    {
     "name": "stdout",
     "output_type": "stream",
     "text": [
      "87456\n"
     ]
    }
   ],
   "source": [
    "with open(\"inputs/input4.txt\") as f:\n",
    "    draw_nums = [int(x) for x in f.readline().split(\",\")]\n",
    "    board_nums = [int(x) for x in f.read().replace(\"\\n\", \" \").split(\" \") if x != \"\"]\n",
    "    board_list = [np.reshape(board_nums[i : i + 25], (5, 5)) for i in range(0, len(board_nums), 25)]\n",
    "    win = False\n",
    "    win_board = []\n",
    "    win_num = -1\n",
    "    \n",
    "    for draw in draw_nums:\n",
    "        for board in board_list:\n",
    "            if draw in board:\n",
    "                board[board == draw] = -1\n",
    "                if CheckWin(board):\n",
    "                    win_board = board\n",
    "                    win_num = draw\n",
    "                    break\n",
    "            \n",
    "        if win_num != -1:\n",
    "            break\n",
    "    \n",
    "    win_board[win_board == -1] = 0\n",
    "    print(np.sum(win_board) * win_num) "
   ]
  },
  {
   "cell_type": "markdown",
   "metadata": {},
   "source": [
    "## Part 2"
   ]
  },
  {
   "cell_type": "code",
   "execution_count": 9,
   "metadata": {},
   "outputs": [
    {
     "name": "stdout",
     "output_type": "stream",
     "text": [
      "15561\n"
     ]
    }
   ],
   "source": [
    "with open(\"inputs/input4.txt\") as f:\n",
    "    draw_nums = [int(x) for x in f.readline().split(\",\")]\n",
    "    board_nums = [int(x) for x in f.read().replace(\"\\n\", \" \").split(\" \") if x != \"\"]\n",
    "    board_list = [{\"win\" :False, \"board\" :np.reshape(board_nums[i : i + 25], (5, 5))} for i in range(0, len(board_nums), 25)]\n",
    "    win = False\n",
    "    win_board = []\n",
    "    win_num = -1\n",
    "    win_count = 0\n",
    "    \n",
    "    for draw in draw_nums:\n",
    "        for board in board_list:\n",
    "            if draw in board[\"board\"]:\n",
    "                board[\"board\"][board[\"board\"] == draw] = -1\n",
    "                if CheckWin(board[\"board\"]) and board[\"win\"] == False:\n",
    "                    win_board.append(board[\"board\"])\n",
    "                    win_num = draw\n",
    "                    board[\"win\"] = True\n",
    "                    win_count += 1\n",
    "            \n",
    "        if win_count == len(board_list):\n",
    "            break\n",
    "    win_board = win_board[-1]\n",
    "    win_board[win_board == -1] = 0\n",
    "    print(np.sum(win_board) * win_num) "
   ]
  },
  {
   "cell_type": "code",
   "execution_count": null,
   "metadata": {},
   "outputs": [],
   "source": []
  }
 ],
 "metadata": {
  "kernelspec": {
   "display_name": "Python 3 (ipykernel)",
   "language": "python",
   "name": "python3"
  },
  "language_info": {
   "codemirror_mode": {
    "name": "ipython",
    "version": 3
   },
   "file_extension": ".py",
   "mimetype": "text/x-python",
   "name": "python",
   "nbconvert_exporter": "python",
   "pygments_lexer": "ipython3",
   "version": "3.10.0"
  }
 },
 "nbformat": 4,
 "nbformat_minor": 4
}
