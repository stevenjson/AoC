{
 "cells": [
  {
   "cell_type": "markdown",
   "metadata": {},
   "source": [
    "# Advent of Code 2021"
   ]
  },
  {
   "cell_type": "markdown",
   "metadata": {},
   "source": [
    "## Day 2 Part 2"
   ]
  },
  {
   "cell_type": "markdown",
   "metadata": {},
   "source": [
    "### Part 2"
   ]
  },
  {
   "cell_type": "code",
   "execution_count": 1,
   "metadata": {},
   "outputs": [
    {
     "name": "stdout",
     "output_type": "stream",
     "text": [
      "1251263225\n"
     ]
    }
   ],
   "source": [
    "with open(\"inputs/input2.txt\", 'r') as f:\n",
    "    width = 0\n",
    "    height = 0\n",
    "    aim = 0\n",
    "    for line in f:\n",
    "        instr = line.strip(\"\\n\").split(\" \")\n",
    "        direc, amt = instr[0], int(instr[1])\n",
    "        \n",
    "        if direc == \"forward\":\n",
    "            width += amt\n",
    "            height += amt * aim\n",
    "        elif direc == \"up\":\n",
    "            aim -= amt\n",
    "        elif direc == \"down\":\n",
    "            aim += amt\n",
    "        \n",
    "    print(height * width)"
   ]
  },
  {
   "cell_type": "markdown",
   "metadata": {
    "tags": []
   },
   "source": [
    "## Day 3"
   ]
  },
  {
   "cell_type": "markdown",
   "metadata": {},
   "source": [
    "### Part 1"
   ]
  },
  {
   "cell_type": "code",
   "execution_count": 2,
   "metadata": {},
   "outputs": [
    {
     "name": "stdout",
     "output_type": "stream",
     "text": [
      "1307354\n"
     ]
    }
   ],
   "source": [
    "with open(\"inputs/input3.txt\", 'r') as f:\n",
    "    line_list = []\n",
    "    for line in f:\n",
    "        line_list.append(list(line.strip(\"\\n\")))\n",
    "        \n",
    "    sum_list = [0] * len(line_list[0])\n",
    "    \n",
    "    for line in line_list:\n",
    "        sum_list = [a + int(b) for a, b in zip(sum_list, line)]\n",
    "    \n",
    "    gamma_list = [0] * len(sum_list)\n",
    "    for i in range(len(sum_list)):\n",
    "        if sum_list[i] > len(line_list) / 2:\n",
    "            gamma_list[i] = 1\n",
    "    gamma_str = \"\".join(str(e) for e in gamma_list)\n",
    "    gamma_num = int(gamma_str, 2)\n",
    "    eps_str = ''.join('1' if x == '0' else '0' for x in gamma_str)\n",
    "    eps_num = int(eps_str, 2)\n",
    "    \n",
    "    print(eps_num * gamma_num)"
   ]
  },
  {
   "cell_type": "markdown",
   "metadata": {},
   "source": [
    "### Part 2"
   ]
  },
  {
   "cell_type": "code",
   "execution_count": 3,
   "metadata": {},
   "outputs": [],
   "source": [
    "import numpy as np\n",
    "import pandas as pd"
   ]
  },
  {
   "cell_type": "code",
   "execution_count": 4,
   "metadata": {},
   "outputs": [],
   "source": [
    "def get_maj_num(df, index):\n",
    "    sum_list = df.sum(axis=0)\n",
    "    maj_num = 1 if sum_list[index] >= len(df) / 2 else 0\n",
    "    return maj_num"
   ]
  },
  {
   "cell_type": "code",
   "execution_count": 5,
   "metadata": {},
   "outputs": [
    {
     "name": "stdout",
     "output_type": "stream",
     "text": [
      "482500\n"
     ]
    }
   ],
   "source": [
    "with open(\"inputs/input3.txt\", 'r') as f:\n",
    "    line_list = []\n",
    "    for line in f:\n",
    "        line_list.append([int(x) for x in list(line.strip(\"\\n\"))])\n",
    "\n",
    "df = pd.DataFrame(line_list)\n",
    "ogr_df = df.copy()\n",
    "csr_df = df.copy()\n",
    "\n",
    "for i in range(len(line_list[0])):\n",
    "        \n",
    "    if len(ogr_df) > 1:\n",
    "        maj_num = get_maj_num(ogr_df, i)\n",
    "        ogr_df = ogr_df[ogr_df[i] == maj_num]\n",
    "    if len(csr_df) > 1:\n",
    "        maj_num = get_maj_num(csr_df, i)\n",
    "        csr_df = csr_df[csr_df[i] != maj_num]\n",
    "        \n",
    "    if len(csr_df) == 1 and len(ogr_df) == 1:\n",
    "        break\n",
    "\n",
    "ogr_num = int(\"\".join(str(x) for x in ogr_df.iloc[0].tolist()), 2)\n",
    "csr_num = int(\"\".join(str(x) for x in csr_df.iloc[0].tolist()), 2)\n",
    "print(ogr_num * csr_num)"
   ]
  },
  {
   "cell_type": "markdown",
   "metadata": {},
   "source": [
    "## Day 4"
   ]
  },
  {
   "cell_type": "markdown",
   "metadata": {},
   "source": [
    "### Part 1"
   ]
  },
  {
   "cell_type": "code",
   "execution_count": 6,
   "metadata": {},
   "outputs": [],
   "source": [
    "import numpy as np"
   ]
  },
  {
   "cell_type": "code",
   "execution_count": 7,
   "metadata": {},
   "outputs": [],
   "source": [
    "def CheckWin(board):\n",
    "    horz = np.sum(board, axis=1)\n",
    "    vert = np.sum(board, axis=0)\n",
    "    if -5 in horz or -5 in vert:\n",
    "        return True\n",
    "    return False"
   ]
  },
  {
   "cell_type": "code",
   "execution_count": 8,
   "metadata": {},
   "outputs": [
    {
     "name": "stdout",
     "output_type": "stream",
     "text": [
      "87456\n"
     ]
    }
   ],
   "source": [
    "with open(\"inputs/input4.txt\") as f:\n",
    "    draw_nums = [int(x) for x in f.readline().split(\",\")]\n",
    "    board_nums = [int(x) for x in f.read().replace(\"\\n\", \" \").split(\" \") if x != \"\"]\n",
    "    board_list = [np.reshape(board_nums[i : i + 25], (5, 5)) for i in range(0, len(board_nums), 25)]\n",
    "    win = False\n",
    "    win_board = []\n",
    "    win_num = -1\n",
    "    \n",
    "    for draw in draw_nums:\n",
    "        for board in board_list:\n",
    "            if draw in board:\n",
    "                board[board == draw] = -1\n",
    "                if CheckWin(board):\n",
    "                    win_board = board\n",
    "                    win_num = draw\n",
    "                    break\n",
    "            \n",
    "        if win_num != -1:\n",
    "            break\n",
    "    \n",
    "    win_board[win_board == -1] = 0\n",
    "    print(np.sum(win_board) * win_num) "
   ]
  },
  {
   "cell_type": "markdown",
   "metadata": {},
   "source": [
    "### Part 2"
   ]
  },
  {
   "cell_type": "code",
   "execution_count": 9,
   "metadata": {},
   "outputs": [
    {
     "name": "stdout",
     "output_type": "stream",
     "text": [
      "15561\n"
     ]
    }
   ],
   "source": [
    "with open(\"inputs/input4.txt\") as f:\n",
    "    draw_nums = [int(x) for x in f.readline().split(\",\")]\n",
    "    board_nums = [int(x) for x in f.read().replace(\"\\n\", \" \").split(\" \") if x != \"\"]\n",
    "    board_list = [{\"win\" :False, \"board\" :np.reshape(board_nums[i : i + 25], (5, 5))} for i in range(0, len(board_nums), 25)]\n",
    "    win = False\n",
    "    win_board = []\n",
    "    win_num = -1\n",
    "    win_count = 0\n",
    "    \n",
    "    for draw in draw_nums:\n",
    "        for board in board_list:\n",
    "            if draw in board[\"board\"]:\n",
    "                board[\"board\"][board[\"board\"] == draw] = -1\n",
    "                if CheckWin(board[\"board\"]) and board[\"win\"] == False:\n",
    "                    win_board.append(board[\"board\"])\n",
    "                    win_num = draw\n",
    "                    board[\"win\"] = True\n",
    "                    win_count += 1\n",
    "            \n",
    "        if win_count == len(board_list):\n",
    "            break\n",
    "    win_board = win_board[-1]\n",
    "    win_board[win_board == -1] = 0\n",
    "    print(np.sum(win_board) * win_num) "
   ]
  },
  {
   "cell_type": "markdown",
   "metadata": {},
   "source": [
    "## Day 5"
   ]
  },
  {
   "cell_type": "markdown",
   "metadata": {
    "tags": []
   },
   "source": [
    "### Part 1"
   ]
  },
  {
   "cell_type": "code",
   "execution_count": 10,
   "metadata": {},
   "outputs": [],
   "source": [
    "def GetNumRange(num_a, num_b):\n",
    "    diff = num_b - num_a\n",
    "    step = (diff>0) - (diff<0)\n",
    "    return [i for i in range(num_a, num_b + 1*step, step)]"
   ]
  },
  {
   "cell_type": "code",
   "execution_count": 11,
   "metadata": {},
   "outputs": [],
   "source": [
    "class Point():\n",
    "    def __init__(self, x, y):\n",
    "        self.x = x\n",
    "        self.y = y\n",
    "    \n",
    "    def __repr__(self):\n",
    "        return str((self.x, self.y))"
   ]
  },
  {
   "cell_type": "code",
   "execution_count": 12,
   "metadata": {},
   "outputs": [
    {
     "name": "stdout",
     "output_type": "stream",
     "text": [
      "6283\n"
     ]
    }
   ],
   "source": [
    "with open(\"inputs/input5.txt\") as f:\n",
    "    visited_points = []\n",
    "    \n",
    "    for line in f:\n",
    "        raw_coords = [x.split(\",\") for x in line.strip().replace(\" \", \"\").split(\"->\")]\n",
    "        clean_coords = [Point(int(x[0]), int(x[1])) for x in raw_coords]\n",
    "        \n",
    "        if clean_coords[0].x == clean_coords[1].x:\n",
    "            y_list = GetNumRange(clean_coords[0].y, clean_coords[1].y)\n",
    "            x_list = [clean_coords[0].x] * len(y_list)\n",
    "        elif clean_coords[0].y == clean_coords[1].y:\n",
    "            x_list = GetNumRange(clean_coords[0].x, clean_coords[1].x)\n",
    "            y_list = [clean_coords[0].y] * len(x_list)\n",
    "        else:\n",
    "            continue\n",
    "        \n",
    "        point_list = list(zip(x_list, y_list))\n",
    "        for point in point_list:\n",
    "            visited_points.append(str(point))\n",
    "            \n",
    "print(len([x for x in np.unique(visited_points, return_counts=True)[1] if x >=2]))"
   ]
  },
  {
   "cell_type": "markdown",
   "metadata": {},
   "source": [
    "### Part 2"
   ]
  },
  {
   "cell_type": "code",
   "execution_count": 13,
   "metadata": {},
   "outputs": [
    {
     "name": "stdout",
     "output_type": "stream",
     "text": [
      "18864\n"
     ]
    }
   ],
   "source": [
    "with open(\"inputs/input5.txt\") as f:\n",
    "    visited_points = []\n",
    "    \n",
    "    for line in f:\n",
    "        raw_coords = [x.split(\",\") for x in line.strip().replace(\" \", \"\").split(\"->\")]\n",
    "        clean_coords = [Point(int(x[0]), int(x[1])) for x in raw_coords]\n",
    "        \n",
    "        if clean_coords[0].x == clean_coords[1].x:\n",
    "            y_list = GetNumRange(clean_coords[0].y, clean_coords[1].y)\n",
    "            x_list = [clean_coords[0].x] * len(y_list)\n",
    "        elif clean_coords[0].y == clean_coords[1].y:\n",
    "            x_list = GetNumRange(clean_coords[0].x, clean_coords[1].x)\n",
    "            y_list = [clean_coords[0].y] * len(x_list)\n",
    "        else:\n",
    "            x_list = GetNumRange(clean_coords[0].x, clean_coords[1].x)\n",
    "            y_list = GetNumRange(clean_coords[0].y, clean_coords[1].y)\n",
    "        \n",
    "        point_list = list(zip(x_list, y_list))\n",
    "        for point in point_list:\n",
    "            visited_points.append(str(point))\n",
    "            \n",
    "print(len([x for x in np.unique(visited_points, return_counts=True)[1] if x >=2]))"
   ]
  },
  {
   "cell_type": "markdown",
   "metadata": {
    "tags": []
   },
   "source": [
    "## Day 6"
   ]
  },
  {
   "cell_type": "markdown",
   "metadata": {},
   "source": [
    "### Part 1"
   ]
  },
  {
   "cell_type": "code",
   "execution_count": 14,
   "metadata": {},
   "outputs": [],
   "source": [
    "def ShiftDictVals(old_dict):\n",
    "    new_dict = {k : 0 for k in range(9)}\n",
    "    for i in range(8):\n",
    "        new_dict[i] = old_dict[i+1]\n",
    "        \n",
    "    return new_dict"
   ]
  },
  {
   "cell_type": "code",
   "execution_count": 15,
   "metadata": {},
   "outputs": [
    {
     "name": "stdout",
     "output_type": "stream",
     "text": [
      "375482\n"
     ]
    }
   ],
   "source": [
    "with open(\"inputs/input6.txt\") as f:\n",
    "    fish_list = [int(x) for x in f.readline().split(\",\")]\n",
    "    fish_dict = {k : 0 for k in range(9)}\n",
    "    for fish in fish_list:\n",
    "        fish_dict[fish] += 1\n",
    "        \n",
    "\n",
    "for i in range(80):\n",
    "    new_fish_dict = ShiftDictVals(fish_dict)\n",
    "    new_fish_dict[8] = fish_dict[0]\n",
    "    new_fish_dict[6] += fish_dict[0]\n",
    "    \n",
    "    fish_dict = new_fish_dict\n",
    "\n",
    "print(sum(fish_dict.values()))"
   ]
  },
  {
   "cell_type": "markdown",
   "metadata": {},
   "source": [
    "### Part 2"
   ]
  },
  {
   "cell_type": "code",
   "execution_count": 16,
   "metadata": {},
   "outputs": [
    {
     "name": "stdout",
     "output_type": "stream",
     "text": [
      "1689540415957\n"
     ]
    }
   ],
   "source": [
    "with open(\"inputs/input6.txt\") as f:\n",
    "    fish_list = [int(x) for x in f.readline().split(\",\")]\n",
    "    fish_dict = {k : 0 for k in range(9)}\n",
    "    for fish in fish_list:\n",
    "        fish_dict[fish] += 1\n",
    "        \n",
    "\n",
    "for i in range(256):\n",
    "    new_fish_dict = ShiftDictVals(fish_dict)\n",
    "    new_fish_dict[8] = fish_dict[0]\n",
    "    new_fish_dict[6] += fish_dict[0]\n",
    "    \n",
    "    fish_dict = new_fish_dict\n",
    "\n",
    "print(sum(fish_dict.values()))"
   ]
  },
  {
   "cell_type": "markdown",
   "metadata": {},
   "source": [
    "## Day 7"
   ]
  },
  {
   "cell_type": "markdown",
   "metadata": {},
   "source": [
    "### Part 1"
   ]
  },
  {
   "cell_type": "code",
   "execution_count": 17,
   "metadata": {},
   "outputs": [
    {
     "name": "stdout",
     "output_type": "stream",
     "text": [
      "356922.0\n"
     ]
    }
   ],
   "source": [
    "with open(\"inputs/input7.txt\") as f:\n",
    "    pos_list = [int(x) for x in f.readline().split(\",\")]\n",
    "    pos = np.median(pos_list)    \n",
    "    print(sum([abs(x - pos) for x in pos_list]))"
   ]
  },
  {
   "cell_type": "markdown",
   "metadata": {},
   "source": [
    "## Part 2"
   ]
  },
  {
   "cell_type": "code",
   "execution_count": 18,
   "metadata": {},
   "outputs": [],
   "source": [
    "def FuelCost(ideal_pos, curr_pos):\n",
    "    num = abs(ideal_pos - curr_pos)\n",
    "    return (num + 1) * num / 2"
   ]
  },
  {
   "cell_type": "code",
   "execution_count": 19,
   "metadata": {},
   "outputs": [
    {
     "name": "stdout",
     "output_type": "stream",
     "text": [
      "100347031.0\n"
     ]
    }
   ],
   "source": [
    "with open(\"inputs/input7.txt\") as f:\n",
    "    pos_list = [int(x) for x in f.readline().split(\",\")]\n",
    "    min_dist = sum([FuelCost(0, pos) for pos in pos_list])\n",
    "    min_pos = 0\n",
    "    for x in range(min(pos_list), max(pos_list)):\n",
    "        dist = sum([FuelCost(x, pos) for pos in pos_list])\n",
    "        if dist < min_dist:\n",
    "            min_dist = dist\n",
    "            min_pos = x\n",
    "    \n",
    "    ideal_pos = min_pos\n",
    "\n",
    "print(sum([FuelCost(ideal_pos, x) for x in pos_list]))"
   ]
  },
  {
   "cell_type": "markdown",
   "metadata": {},
   "source": [
    "## Day 8"
   ]
  },
  {
   "cell_type": "markdown",
   "metadata": {},
   "source": [
    "### Part 1"
   ]
  },
  {
   "cell_type": "code",
   "execution_count": 20,
   "metadata": {},
   "outputs": [
    {
     "name": "stdout",
     "output_type": "stream",
     "text": [
      "383\n"
     ]
    }
   ],
   "source": [
    "with open(\"inputs/input8.txt\") as f:\n",
    "    total = 0\n",
    "    for line in f:\n",
    "        input_list, output_list = line.strip().split(\"|\")\n",
    "        input_list = input_list.split(\" \")\n",
    "        output_list = output_list.split(\" \")\n",
    "        #print(\"O\", output_list)\n",
    "        unique_vals = [x for x in output_list if len(x) in [2, 4, 3, 7]]\n",
    "        #print(unique_vals)\n",
    "        total += len(unique_vals)\n",
    "        \n",
    "print(total)"
   ]
  },
  {
   "cell_type": "markdown",
   "metadata": {
    "tags": []
   },
   "source": [
    "### Part 2"
   ]
  },
  {
   "cell_type": "code",
   "execution_count": 21,
   "metadata": {},
   "outputs": [],
   "source": [
    "def GetEncodeDict(input_list):\n",
    "    encode_dict = {k : \"\" for k in range(0, 10)}\n",
    "    real_dict = {k : -1 for k in input_list}\n",
    "    \n",
    "    for input_code in input_list:\n",
    "        if len(input_code) == 2:\n",
    "            num = 1\n",
    "        elif len(input_code) == 3:\n",
    "            num = 7\n",
    "        elif len(input_code) == 4:\n",
    "            num = 4\n",
    "        elif len(input_code) == 7:\n",
    "            num = 8\n",
    "        else:\n",
    "            continue\n",
    "            \n",
    "        encode_dict[num] = input_code\n",
    "        real_dict[\"\".join(sorted(input_code))] = num\n",
    "        \n",
    "    for input_code in input_list:\n",
    "        if len(input_code) == 5:\n",
    "            if len(set(input_code).intersection(encode_dict[7])) == 3:\n",
    "                num = 3\n",
    "            elif len(set(input_code).intersection(encode_dict[4])) == 3:\n",
    "                num = 5\n",
    "            else:\n",
    "                num = 2\n",
    "        elif len(input_code) == 6:\n",
    "            if len(set(input_code).intersection(encode_dict[1])) == 1:\n",
    "                num = 6\n",
    "            elif len(set(input_code).intersection(encode_dict[7])) == 3 and len(set(input_code).intersection(encode_dict[4])) == 3:\n",
    "                num = 0\n",
    "            else:\n",
    "                num = 9      \n",
    "        else:\n",
    "            continue\n",
    "                \n",
    "        encode_dict[num] = input_code\n",
    "        real_dict[\"\".join(sorted(input_code))] = num\n",
    "            \n",
    "    return real_dict"
   ]
  },
  {
   "cell_type": "code",
   "execution_count": 22,
   "metadata": {},
   "outputs": [
    {
     "name": "stdout",
     "output_type": "stream",
     "text": [
      "998900\n"
     ]
    }
   ],
   "source": [
    "with open(\"inputs/input8.txt\") as f:\n",
    "    total = 0\n",
    "    for line in f:\n",
    "        input_list, output_list = line.strip().split(\"|\")\n",
    "        input_list = input_list.split(\" \")\n",
    "        output_list = output_list.split(\" \")\n",
    "        encode_dict = GetEncodeDict(input_list)\n",
    "        \n",
    "        total+= int(\"\".join([str(encode_dict[\"\".join(sorted(x))]) for x in output_list if x != \"\"]))\n",
    "        \n",
    "        \n",
    "print(total)"
   ]
  },
  {
   "cell_type": "code",
   "execution_count": null,
   "metadata": {},
   "outputs": [],
   "source": []
  },
  {
   "cell_type": "code",
   "execution_count": null,
   "metadata": {},
   "outputs": [],
   "source": []
  }
 ],
 "metadata": {
  "kernelspec": {
   "display_name": "Python 3 (ipykernel)",
   "language": "python",
   "name": "python3"
  },
  "language_info": {
   "codemirror_mode": {
    "name": "ipython",
    "version": 3
   },
   "file_extension": ".py",
   "mimetype": "text/x-python",
   "name": "python",
   "nbconvert_exporter": "python",
   "pygments_lexer": "ipython3",
   "version": "3.10.0"
  }
 },
 "nbformat": 4,
 "nbformat_minor": 4
}
