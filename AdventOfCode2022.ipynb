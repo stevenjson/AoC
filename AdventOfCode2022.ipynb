{
 "cells": [
  {
   "cell_type": "markdown",
   "metadata": {},
   "source": [
    "# Advent Of Code 2022"
   ]
  },
  {
   "cell_type": "markdown",
   "metadata": {},
   "source": [
    "## Day 1"
   ]
  },
  {
   "cell_type": "code",
   "execution_count": 14,
   "metadata": {},
   "outputs": [],
   "source": [
    "test = False\n",
    "filename = \"./input2022/test_day01.txt\" if test else \"./input2022/input_day01.txt\"\n",
    "with open(filename, 'r') as f:\n",
    "    file_input = f.read().split(\"\\n\")"
   ]
  },
  {
   "cell_type": "code",
   "execution_count": 15,
   "metadata": {},
   "outputs": [
    {
     "name": "stdout",
     "output_type": "stream",
     "text": [
      "69501\n"
     ]
    }
   ],
   "source": [
    "current_cal = 0\n",
    "max_cal = 0\n",
    "for item in file_input:\n",
    "    if item == \"\":\n",
    "        if current_cal > max_cal:\n",
    "            max_cal = current_cal\n",
    "        current_cal = 0\n",
    "        continue\n",
    "    \n",
    "    current_cal += int(item)\n",
    "    \n",
    "print(max_cal)"
   ]
  },
  {
   "cell_type": "code",
   "execution_count": 17,
   "metadata": {},
   "outputs": [
    {
     "name": "stdout",
     "output_type": "stream",
     "text": [
      "202346\n"
     ]
    }
   ],
   "source": [
    "cal_list = []\n",
    "for item in file_input:\n",
    "    if item == \"\":\n",
    "        cal_list.append(current_cal)\n",
    "        current_cal = 0\n",
    "        continue\n",
    "    \n",
    "    current_cal += int(item)\n",
    "\n",
    "cal_list.append(current_cal)\n",
    "sorted_cals = sorted(cal_list, reverse=True)\n",
    "\n",
    "print(sum(sorted_cals[:3]))"
   ]
  },
  {
   "cell_type": "markdown",
   "metadata": {},
   "source": [
    "## Day 2"
   ]
  },
  {
   "cell_type": "code",
   "execution_count": 7,
   "metadata": {},
   "outputs": [],
   "source": [
    "test = False\n",
    "filename = \"./input2022/test_day02.txt\" if test else \"./input2022/input_day02.txt\"\n",
    "with open(filename, 'r') as f:\n",
    "    file_input = f.read().split(\"\\n\")"
   ]
  },
  {
   "cell_type": "code",
   "execution_count": 8,
   "metadata": {},
   "outputs": [
    {
     "name": "stdout",
     "output_type": "stream",
     "text": [
      "9177\n"
     ]
    }
   ],
   "source": [
    "rounds = [x.replace(\" \", \"\") for x in file_input]\n",
    "my_moves = [x.split()[1] for x in file_input]\n",
    "\n",
    "move_vals = {\"X\": 1, \"Y\": 2, \"Z\": 3}\n",
    "lose_list = [\"AZ\", \"BX\", \"CY\"]\n",
    "win_list = [\"AY\", \"BZ\", \"CX\"]\n",
    "# tie_list = [\"AX\", \"BY\", \"CZ\"]\n",
    "score = 0\n",
    "for i, round in enumerate(rounds):\n",
    "    if round in win_list:\n",
    "        score += (6 + move_vals[my_moves[i]])\n",
    "    elif round in lose_list:\n",
    "        score += (0 + move_vals[my_moves[i]])\n",
    "    else:\n",
    "        score += (3 + move_vals[my_moves[i]])\n",
    "\n",
    "print(score)"
   ]
  },
  {
   "cell_type": "code",
   "execution_count": 9,
   "metadata": {},
   "outputs": [
    {
     "name": "stdout",
     "output_type": "stream",
     "text": [
      "12111\n"
     ]
    }
   ],
   "source": [
    "enemy_move = [x.split()[0] for x in file_input]\n",
    "my_moves = [x.split()[1] for x in file_input]\n",
    "\n",
    "move_vals = {\"X\": 1, \"Y\": 2, \"Z\": 3}\n",
    "lose_list = {\"A\":\"Z\", \"B\":\"X\", \"C\":\"Y\"}\n",
    "win_list = {\"A\":\"Y\", \"B\":\"Z\", \"C\":\"X\"}\n",
    "tie_list = {\"A\":\"X\", \"B\":\"Y\", \"C\":\"Z\"}\n",
    "\n",
    "score = 0\n",
    "for i, move in enumerate(my_moves):\n",
    "    if move  == \"X\":\n",
    "        score += (move_vals[lose_list[enemy_move[i]]] + 0)\n",
    "    elif move == \"Y\":\n",
    "        score += (move_vals[tie_list[enemy_move[i]]] + 3)\n",
    "    else:\n",
    "        score += (move_vals[win_list[enemy_move[i]]] + 6)\n",
    "\n",
    "print(score)"
   ]
  },
  {
   "cell_type": "markdown",
   "metadata": {},
   "source": [
    "## Day 3"
   ]
  },
  {
   "cell_type": "code",
   "execution_count": 55,
   "metadata": {},
   "outputs": [],
   "source": [
    "test = False\n",
    "filename = \"./input2022/test_day03.txt\" if test else \"./input2022/input_day03.txt\"\n",
    "with open(filename, 'r') as f:\n",
    "    file_input = f.read().split(\"\\n\")"
   ]
  },
  {
   "cell_type": "code",
   "execution_count": 56,
   "metadata": {},
   "outputs": [],
   "source": [
    "def letter_to_score(letter):\n",
    "    if letter.isupper():\n",
    "        letter_score = ord(letter) - 64 + 26\n",
    "    else:\n",
    "        letter_score = ord(letter) - 96\n",
    "\n",
    "    return letter_score\n"
   ]
  },
  {
   "cell_type": "code",
   "execution_count": 57,
   "metadata": {},
   "outputs": [
    {
     "name": "stdout",
     "output_type": "stream",
     "text": [
      "7889\n"
     ]
    }
   ],
   "source": [
    "total_score = 0\n",
    "for bag_items in file_input:\n",
    "    half = len(bag_items)//2\n",
    "    first_comp = set(bag_items[:half])\n",
    "    second_comp = set(bag_items[half:])\n",
    "\n",
    "    same_item = first_comp.intersection(second_comp).pop()\n",
    "    total_score += letter_to_score(same_item)\n",
    "\n",
    "print(total_score)\n",
    "\n"
   ]
  },
  {
   "cell_type": "code",
   "execution_count": 58,
   "metadata": {},
   "outputs": [
    {
     "name": "stdout",
     "output_type": "stream",
     "text": [
      "2825\n"
     ]
    }
   ],
   "source": [
    "total_score = 0\n",
    "\n",
    "group_bags = [(file_input[i], file_input[i+1], file_input[i+2]) for i in range(0, len(file_input), 3)]\n",
    "\n",
    "for bags in group_bags:\n",
    "    bag1, bag2, bag3 = set(bags[0]), set(bags[1]), set(bags[2])\n",
    "\n",
    "    same_item = bag1.intersection(bag2, bag3).pop()\n",
    "    total_score += letter_to_score(same_item)\n",
    "\n",
    "print(total_score)"
   ]
  },
  {
   "cell_type": "markdown",
   "metadata": {},
   "source": [
    "## Day 4"
   ]
  },
  {
   "cell_type": "code",
   "execution_count": 15,
   "metadata": {},
   "outputs": [],
   "source": [
    "test = False\n",
    "filename = \"./input2022/test_day04.txt\" if test else \"./input2022/input_day04.txt\"\n",
    "with open(filename, 'r') as f:\n",
    "    file_input = f.read().split(\"\\n\")"
   ]
  },
  {
   "cell_type": "code",
   "execution_count": 16,
   "metadata": {},
   "outputs": [
    {
     "name": "stdout",
     "output_type": "stream",
     "text": [
      "513\n"
     ]
    }
   ],
   "source": [
    "total = 0\n",
    "for range_strs in file_input:\n",
    "    input_1, input_2 = range_strs.split(\",\") \n",
    "    first_elf = set([x for x in range(int(input_1.split(\"-\")[0]), int(input_1.split(\"-\")[1]) + 1)])\n",
    "    second_elf = set([x for x in range(int(input_2.split(\"-\")[0]), int(input_2.split(\"-\")[1]) + 1)])\n",
    "    \n",
    "    if first_elf.intersection(second_elf) == first_elf or first_elf.intersection(second_elf) == second_elf:\n",
    "        total += 1\n",
    "\n",
    "print(total)"
   ]
  },
  {
   "cell_type": "code",
   "execution_count": 17,
   "metadata": {},
   "outputs": [
    {
     "name": "stdout",
     "output_type": "stream",
     "text": [
      "878\n"
     ]
    }
   ],
   "source": [
    "total = 0\n",
    "for range_strs in file_input:\n",
    "    input_1, input_2 = range_strs.split(\",\") \n",
    "    first_elf = set([x for x in range(int(input_1.split(\"-\")[0]), int(input_1.split(\"-\")[1]) + 1)])\n",
    "    second_elf = set([x for x in range(int(input_2.split(\"-\")[0]), int(input_2.split(\"-\")[1]) + 1)])\n",
    "    \n",
    "    if len(first_elf.intersection(second_elf)) != 0:\n",
    "        total += 1\n",
    "\n",
    "print(total)"
   ]
  },
  {
   "cell_type": "markdown",
   "metadata": {},
   "source": [
    "## Day 5"
   ]
  },
  {
   "cell_type": "code",
   "execution_count": 120,
   "metadata": {},
   "outputs": [],
   "source": [
    "test = False\n",
    "filename = \"./input2022/test_day05.txt\" if test else \"./input2022/input_day05.txt\"\n",
    "with open(filename, 'r') as f:\n",
    "    file_input = f.read().split(\"\\n\")"
   ]
  },
  {
   "cell_type": "code",
   "execution_count": 121,
   "metadata": {},
   "outputs": [],
   "source": [
    "def translate_stack_input(file_input):\n",
    "    stacks = {k:[] for k in range (1, 10)}\n",
    "\n",
    "    for i, line in enumerate(file_input):\n",
    "        if line == \"\":\n",
    "            break\n",
    "\n",
    "    setup = file_input[:i]\n",
    "    moves = file_input[i+1:]\n",
    "\n",
    "    move_list = []\n",
    "    for move in moves:\n",
    "        next_move = (int(move.split(\" \")[1]), int(move.split(\" \")[3]), int(move.split(\" \")[5]))\n",
    "        move_list.append(next_move)\n",
    "\n",
    "    char_idxs = []\n",
    "    for i, char in enumerate(setup[-1]):\n",
    "        if char != \" \":\n",
    "            char_idxs.append(i)\n",
    "\n",
    "    for line in setup[:-1]:\n",
    "        for i, idx in enumerate(char_idxs):\n",
    "            if line[idx] != \" \":\n",
    "                stacks[i+1].append(line[idx])\n",
    "\n",
    "    for key, value in stacks.items():\n",
    "        stacks[key].reverse()\n",
    "\n",
    "    return stacks, move_list"
   ]
  },
  {
   "cell_type": "code",
   "execution_count": 122,
   "metadata": {},
   "outputs": [],
   "source": [
    "def print_stacks(stacks):\n",
    "    for stack in stacks.items():\n",
    "        print(stack)"
   ]
  },
  {
   "cell_type": "code",
   "execution_count": 123,
   "metadata": {},
   "outputs": [
    {
     "name": "stdout",
     "output_type": "stream",
     "text": [
      "FWNSHLDNZ\n"
     ]
    }
   ],
   "source": [
    "for i, line in enumerate(file_input):\n",
    "        if line == \"\":\n",
    "            break\n",
    "\n",
    "setup = file_input[:i]\n",
    "moves = file_input[i+1:]\n",
    "\n",
    "stacks, move_list = translate_stack_input(file_input)\n",
    "\n",
    "for move in move_list:\n",
    "    num_to_move, stack1, stack2 = move\n",
    "\n",
    "    for i in range(num_to_move):\n",
    "        stacks[stack2].append(stacks[stack1].pop())\n",
    "\n",
    "\n",
    "final_str = \"\"\n",
    "for stack_val in stacks.values():\n",
    "    if len(stack_val) > 0:\n",
    "        final_str += stack_val.pop()\n",
    "\n",
    "print(final_str)\n",
    "\n"
   ]
  },
  {
   "cell_type": "code",
   "execution_count": 124,
   "metadata": {},
   "outputs": [
    {
     "name": "stdout",
     "output_type": "stream",
     "text": [
      "RNRGDNFQG\n"
     ]
    }
   ],
   "source": [
    "for i, line in enumerate(file_input):\n",
    "        if line == \"\":\n",
    "            break\n",
    "\n",
    "setup = file_input[:i]\n",
    "moves = file_input[i+1:]\n",
    "\n",
    "stacks, move_list = translate_stack_input(file_input)\n",
    "\n",
    "for move in move_list:\n",
    "    num_to_move, stack1, stack2 = move\n",
    "\n",
    "    selected_boxes = [stacks[stack1].pop() for x in range(num_to_move)]\n",
    "    selected_boxes.reverse()\n",
    "    stacks[stack2] += selected_boxes\n",
    "\n",
    "\n",
    "final_str = \"\"\n",
    "for stack_val in stacks.values():\n",
    "    if len(stack_val) > 0:\n",
    "        final_str += stack_val.pop()\n",
    "\n",
    "print(final_str)"
   ]
  },
  {
   "cell_type": "code",
   "execution_count": null,
   "metadata": {},
   "outputs": [],
   "source": []
  },
  {
   "cell_type": "code",
   "execution_count": null,
   "metadata": {},
   "outputs": [],
   "source": []
  }
 ],
 "metadata": {
  "kernelspec": {
   "display_name": "Python 3.9.15 ('scratch')",
   "language": "python",
   "name": "python3"
  },
  "language_info": {
   "codemirror_mode": {
    "name": "ipython",
    "version": 3
   },
   "file_extension": ".py",
   "mimetype": "text/x-python",
   "name": "python",
   "nbconvert_exporter": "python",
   "pygments_lexer": "ipython3",
   "version": "3.9.15"
  },
  "orig_nbformat": 4,
  "vscode": {
   "interpreter": {
    "hash": "1762511d11d7a7fd57dfc62cd4ab696ba7ab3f6eeb69d4ea5c582baaa43c8547"
   }
  }
 },
 "nbformat": 4,
 "nbformat_minor": 2
}
