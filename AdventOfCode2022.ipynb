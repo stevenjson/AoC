{
 "cells": [
  {
   "cell_type": "markdown",
   "metadata": {},
   "source": [
    "# Advent Of Code 2022"
   ]
  },
  {
   "cell_type": "markdown",
   "metadata": {},
   "source": [
    "## Day 2"
   ]
  },
  {
   "cell_type": "code",
   "execution_count": 7,
   "metadata": {},
   "outputs": [],
   "source": [
    "test = False\n",
    "filename = \"./input2022/test_day2.txt\" if test else \"./input2022/input_day2.txt\"\n",
    "with open(filename, 'r') as f:\n",
    "    file_input = f.read().split(\"\\n\")"
   ]
  },
  {
   "cell_type": "code",
   "execution_count": 8,
   "metadata": {},
   "outputs": [
    {
     "name": "stdout",
     "output_type": "stream",
     "text": [
      "9177\n"
     ]
    }
   ],
   "source": [
    "rounds = [x.replace(\" \", \"\") for x in file_input]\n",
    "my_moves = [x.split()[1] for x in file_input]\n",
    "\n",
    "move_vals = {\"X\": 1, \"Y\": 2, \"Z\": 3}\n",
    "lose_list = [\"AZ\", \"BX\", \"CY\"]\n",
    "win_list = [\"AY\", \"BZ\", \"CX\"]\n",
    "# tie_list = [\"AX\", \"BY\", \"CZ\"]\n",
    "score = 0\n",
    "for i, round in enumerate(rounds):\n",
    "    if round in win_list:\n",
    "        score += (6 + move_vals[my_moves[i]])\n",
    "    elif round in lose_list:\n",
    "        score += (0 + move_vals[my_moves[i]])\n",
    "    else:\n",
    "        score += (3 + move_vals[my_moves[i]])\n",
    "\n",
    "print(score)"
   ]
  },
  {
   "cell_type": "code",
   "execution_count": 9,
   "metadata": {},
   "outputs": [
    {
     "name": "stdout",
     "output_type": "stream",
     "text": [
      "12111\n"
     ]
    }
   ],
   "source": [
    "enemy_move = [x.split()[0] for x in file_input]\n",
    "my_moves = [x.split()[1] for x in file_input]\n",
    "\n",
    "move_vals = {\"X\": 1, \"Y\": 2, \"Z\": 3}\n",
    "lose_list = {\"A\":\"Z\", \"B\":\"X\", \"C\":\"Y\"}\n",
    "win_list = {\"A\":\"Y\", \"B\":\"Z\", \"C\":\"X\"}\n",
    "tie_list = {\"A\":\"X\", \"B\":\"Y\", \"C\":\"Z\"}\n",
    "\n",
    "score = 0\n",
    "for i, move in enumerate(my_moves):\n",
    "    if move  == \"X\":\n",
    "        score += (move_vals[lose_list[enemy_move[i]]] + 0)\n",
    "    elif move == \"Y\":\n",
    "        score += (move_vals[tie_list[enemy_move[i]]] + 3)\n",
    "    else:\n",
    "        score += (move_vals[win_list[enemy_move[i]]] + 6)\n",
    "\n",
    "print(score)"
   ]
  },
  {
   "cell_type": "code",
   "execution_count": null,
   "metadata": {},
   "outputs": [],
   "source": []
  },
  {
   "cell_type": "code",
   "execution_count": null,
   "metadata": {},
   "outputs": [],
   "source": []
  }
 ],
 "metadata": {
  "interpreter": {
   "hash": "094fff7337e88b83673f70f4a8f850c2a7f33959844558f902d1434f91754666"
  },
  "kernelspec": {
   "display_name": "Python 3.10.0 64-bit ('aoc': conda)",
   "language": "python",
   "name": "python3"
  },
  "language_info": {
   "codemirror_mode": {
    "name": "ipython",
    "version": 3
   },
   "file_extension": ".py",
   "mimetype": "text/x-python",
   "name": "python",
   "nbconvert_exporter": "python",
   "pygments_lexer": "ipython3",
   "version": "3.10.0"
  },
  "orig_nbformat": 4
 },
 "nbformat": 4,
 "nbformat_minor": 2
}
