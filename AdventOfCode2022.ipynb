{
 "cells": [
  {
   "cell_type": "markdown",
   "metadata": {},
   "source": [
    "# Advent Of Code 2022"
   ]
  },
  {
   "cell_type": "markdown",
   "metadata": {},
   "source": [
    "## Day 2"
   ]
  },
  {
   "cell_type": "code",
   "execution_count": 7,
   "metadata": {},
   "outputs": [],
   "source": [
    "test = False\n",
    "filename = \"./input2022/test_day02.txt\" if test else \"./input2022/input_day02.txt\"\n",
    "with open(filename, 'r') as f:\n",
    "    file_input = f.read().split(\"\\n\")"
   ]
  },
  {
   "cell_type": "code",
   "execution_count": 8,
   "metadata": {},
   "outputs": [
    {
     "name": "stdout",
     "output_type": "stream",
     "text": [
      "9177\n"
     ]
    }
   ],
   "source": [
    "rounds = [x.replace(\" \", \"\") for x in file_input]\n",
    "my_moves = [x.split()[1] for x in file_input]\n",
    "\n",
    "move_vals = {\"X\": 1, \"Y\": 2, \"Z\": 3}\n",
    "lose_list = [\"AZ\", \"BX\", \"CY\"]\n",
    "win_list = [\"AY\", \"BZ\", \"CX\"]\n",
    "# tie_list = [\"AX\", \"BY\", \"CZ\"]\n",
    "score = 0\n",
    "for i, round in enumerate(rounds):\n",
    "    if round in win_list:\n",
    "        score += (6 + move_vals[my_moves[i]])\n",
    "    elif round in lose_list:\n",
    "        score += (0 + move_vals[my_moves[i]])\n",
    "    else:\n",
    "        score += (3 + move_vals[my_moves[i]])\n",
    "\n",
    "print(score)"
   ]
  },
  {
   "cell_type": "code",
   "execution_count": 9,
   "metadata": {},
   "outputs": [
    {
     "name": "stdout",
     "output_type": "stream",
     "text": [
      "12111\n"
     ]
    }
   ],
   "source": [
    "enemy_move = [x.split()[0] for x in file_input]\n",
    "my_moves = [x.split()[1] for x in file_input]\n",
    "\n",
    "move_vals = {\"X\": 1, \"Y\": 2, \"Z\": 3}\n",
    "lose_list = {\"A\":\"Z\", \"B\":\"X\", \"C\":\"Y\"}\n",
    "win_list = {\"A\":\"Y\", \"B\":\"Z\", \"C\":\"X\"}\n",
    "tie_list = {\"A\":\"X\", \"B\":\"Y\", \"C\":\"Z\"}\n",
    "\n",
    "score = 0\n",
    "for i, move in enumerate(my_moves):\n",
    "    if move  == \"X\":\n",
    "        score += (move_vals[lose_list[enemy_move[i]]] + 0)\n",
    "    elif move == \"Y\":\n",
    "        score += (move_vals[tie_list[enemy_move[i]]] + 3)\n",
    "    else:\n",
    "        score += (move_vals[win_list[enemy_move[i]]] + 6)\n",
    "\n",
    "print(score)"
   ]
  },
  {
   "cell_type": "markdown",
   "metadata": {},
   "source": [
    "## Day 3"
   ]
  },
  {
   "cell_type": "code",
   "execution_count": 55,
   "metadata": {},
   "outputs": [],
   "source": [
    "test = False\n",
    "filename = \"./input2022/test_day03.txt\" if test else \"./input2022/input_day03.txt\"\n",
    "with open(filename, 'r') as f:\n",
    "    file_input = f.read().split(\"\\n\")"
   ]
  },
  {
   "cell_type": "code",
   "execution_count": 56,
   "metadata": {},
   "outputs": [],
   "source": [
    "def letter_to_score(letter):\n",
    "    if letter.isupper():\n",
    "        letter_score = ord(letter) - 64 + 26\n",
    "    else:\n",
    "        letter_score = ord(letter) - 96\n",
    "\n",
    "    return letter_score\n"
   ]
  },
  {
   "cell_type": "code",
   "execution_count": 57,
   "metadata": {},
   "outputs": [
    {
     "name": "stdout",
     "output_type": "stream",
     "text": [
      "7889\n"
     ]
    }
   ],
   "source": [
    "total_score = 0\n",
    "for bag_items in file_input:\n",
    "    half = len(bag_items)//2\n",
    "    first_comp = set(bag_items[:half])\n",
    "    second_comp = set(bag_items[half:])\n",
    "\n",
    "    same_item = first_comp.intersection(second_comp).pop()\n",
    "    total_score += letter_to_score(same_item)\n",
    "\n",
    "print(total_score)\n",
    "\n"
   ]
  },
  {
   "cell_type": "code",
   "execution_count": 58,
   "metadata": {},
   "outputs": [
    {
     "name": "stdout",
     "output_type": "stream",
     "text": [
      "2825\n"
     ]
    }
   ],
   "source": [
    "total_score = 0\n",
    "\n",
    "group_bags = [(file_input[i], file_input[i+1], file_input[i+2]) for i in range(0, len(file_input), 3)]\n",
    "\n",
    "for bags in group_bags:\n",
    "    bag1, bag2, bag3 = set(bags[0]), set(bags[1]), set(bags[2])\n",
    "\n",
    "    same_item = bag1.intersection(bag2, bag3).pop()\n",
    "    total_score += letter_to_score(same_item)\n",
    "\n",
    "print(total_score)"
   ]
  },
  {
   "cell_type": "code",
   "execution_count": null,
   "metadata": {},
   "outputs": [],
   "source": []
  }
 ],
 "metadata": {
  "interpreter": {
   "hash": "094fff7337e88b83673f70f4a8f850c2a7f33959844558f902d1434f91754666"
  },
  "kernelspec": {
   "display_name": "Python 3.10.0 64-bit ('aoc': conda)",
   "language": "python",
   "name": "python3"
  },
  "language_info": {
   "codemirror_mode": {
    "name": "ipython",
    "version": 3
   },
   "file_extension": ".py",
   "mimetype": "text/x-python",
   "name": "python",
   "nbconvert_exporter": "python",
   "pygments_lexer": "ipython3",
   "version": "3.10.0"
  },
  "orig_nbformat": 4
 },
 "nbformat": 4,
 "nbformat_minor": 2
}
