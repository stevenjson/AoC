{
 "cells": [
  {
   "cell_type": "markdown",
   "metadata": {},
   "source": [
    "# Advent of Code 2021"
   ]
  },
  {
   "cell_type": "markdown",
   "metadata": {},
   "source": [
    "## Day 2 Part 2"
   ]
  },
  {
   "cell_type": "markdown",
   "metadata": {},
   "source": [
    "### Part 2"
   ]
  },
  {
   "cell_type": "code",
   "execution_count": 1,
   "metadata": {},
   "outputs": [
    {
     "name": "stdout",
     "output_type": "stream",
     "text": [
      "1251263225\n"
     ]
    }
   ],
   "source": [
    "with open(\"inputs/input2.txt\", 'r') as f:\n",
    "    width = 0\n",
    "    height = 0\n",
    "    aim = 0\n",
    "    for line in f:\n",
    "        instr = line.strip(\"\\n\").split(\" \")\n",
    "        direc, amt = instr[0], int(instr[1])\n",
    "        \n",
    "        if direc == \"forward\":\n",
    "            width += amt\n",
    "            height += amt * aim\n",
    "        elif direc == \"up\":\n",
    "            aim -= amt\n",
    "        elif direc == \"down\":\n",
    "            aim += amt\n",
    "        \n",
    "    print(height * width)"
   ]
  },
  {
   "cell_type": "markdown",
   "metadata": {
    "tags": []
   },
   "source": [
    "## Day 3"
   ]
  },
  {
   "cell_type": "markdown",
   "metadata": {},
   "source": [
    "### Part 1"
   ]
  },
  {
   "cell_type": "code",
   "execution_count": 2,
   "metadata": {},
   "outputs": [
    {
     "name": "stdout",
     "output_type": "stream",
     "text": [
      "1307354\n"
     ]
    }
   ],
   "source": [
    "with open(\"inputs/input3.txt\", 'r') as f:\n",
    "    line_list = []\n",
    "    for line in f:\n",
    "        line_list.append(list(line.strip(\"\\n\")))\n",
    "        \n",
    "    sum_list = [0] * len(line_list[0])\n",
    "    \n",
    "    for line in line_list:\n",
    "        sum_list = [a + int(b) for a, b in zip(sum_list, line)]\n",
    "    \n",
    "    gamma_list = [0] * len(sum_list)\n",
    "    for i in range(len(sum_list)):\n",
    "        if sum_list[i] > len(line_list) / 2:\n",
    "            gamma_list[i] = 1\n",
    "    gamma_str = \"\".join(str(e) for e in gamma_list)\n",
    "    gamma_num = int(gamma_str, 2)\n",
    "    eps_str = ''.join('1' if x == '0' else '0' for x in gamma_str)\n",
    "    eps_num = int(eps_str, 2)\n",
    "    \n",
    "    print(eps_num * gamma_num)"
   ]
  },
  {
   "cell_type": "markdown",
   "metadata": {},
   "source": [
    "### Part 2"
   ]
  },
  {
   "cell_type": "code",
   "execution_count": 3,
   "metadata": {},
   "outputs": [],
   "source": [
    "import numpy as np\n",
    "import pandas as pd"
   ]
  },
  {
   "cell_type": "code",
   "execution_count": 4,
   "metadata": {},
   "outputs": [],
   "source": [
    "def get_maj_num(df, index):\n",
    "    sum_list = df.sum(axis=0)\n",
    "    maj_num = 1 if sum_list[index] >= len(df) / 2 else 0\n",
    "    return maj_num"
   ]
  },
  {
   "cell_type": "code",
   "execution_count": 5,
   "metadata": {},
   "outputs": [
    {
     "name": "stdout",
     "output_type": "stream",
     "text": [
      "482500\n"
     ]
    }
   ],
   "source": [
    "with open(\"inputs/input3.txt\", 'r') as f:\n",
    "    line_list = []\n",
    "    for line in f:\n",
    "        line_list.append([int(x) for x in list(line.strip(\"\\n\"))])\n",
    "\n",
    "df = pd.DataFrame(line_list)\n",
    "ogr_df = df.copy()\n",
    "csr_df = df.copy()\n",
    "\n",
    "for i in range(len(line_list[0])):\n",
    "        \n",
    "    if len(ogr_df) > 1:\n",
    "        maj_num = get_maj_num(ogr_df, i)\n",
    "        ogr_df = ogr_df[ogr_df[i] == maj_num]\n",
    "    if len(csr_df) > 1:\n",
    "        maj_num = get_maj_num(csr_df, i)\n",
    "        csr_df = csr_df[csr_df[i] != maj_num]\n",
    "        \n",
    "    if len(csr_df) == 1 and len(ogr_df) == 1:\n",
    "        break\n",
    "\n",
    "ogr_num = int(\"\".join(str(x) for x in ogr_df.iloc[0].tolist()), 2)\n",
    "csr_num = int(\"\".join(str(x) for x in csr_df.iloc[0].tolist()), 2)\n",
    "print(ogr_num * csr_num)"
   ]
  },
  {
   "cell_type": "markdown",
   "metadata": {},
   "source": [
    "## Day 4"
   ]
  },
  {
   "cell_type": "markdown",
   "metadata": {},
   "source": [
    "### Part 1"
   ]
  },
  {
   "cell_type": "code",
   "execution_count": 6,
   "metadata": {},
   "outputs": [],
   "source": [
    "import numpy as np"
   ]
  },
  {
   "cell_type": "code",
   "execution_count": 7,
   "metadata": {},
   "outputs": [],
   "source": [
    "def CheckWin(board):\n",
    "    horz = np.sum(board, axis=1)\n",
    "    vert = np.sum(board, axis=0)\n",
    "    if -5 in horz or -5 in vert:\n",
    "        return True\n",
    "    return False"
   ]
  },
  {
   "cell_type": "code",
   "execution_count": 8,
   "metadata": {},
   "outputs": [
    {
     "name": "stdout",
     "output_type": "stream",
     "text": [
      "87456\n"
     ]
    }
   ],
   "source": [
    "with open(\"inputs/input4.txt\") as f:\n",
    "    draw_nums = [int(x) for x in f.readline().split(\",\")]\n",
    "    board_nums = [int(x) for x in f.read().replace(\"\\n\", \" \").split(\" \") if x != \"\"]\n",
    "    board_list = [np.reshape(board_nums[i : i + 25], (5, 5)) for i in range(0, len(board_nums), 25)]\n",
    "    win = False\n",
    "    win_board = []\n",
    "    win_num = -1\n",
    "    \n",
    "    for draw in draw_nums:\n",
    "        for board in board_list:\n",
    "            if draw in board:\n",
    "                board[board == draw] = -1\n",
    "                if CheckWin(board):\n",
    "                    win_board = board\n",
    "                    win_num = draw\n",
    "                    break\n",
    "            \n",
    "        if win_num != -1:\n",
    "            break\n",
    "    \n",
    "    win_board[win_board == -1] = 0\n",
    "    print(np.sum(win_board) * win_num) "
   ]
  },
  {
   "cell_type": "markdown",
   "metadata": {},
   "source": [
    "### Part 2"
   ]
  },
  {
   "cell_type": "code",
   "execution_count": 9,
   "metadata": {},
   "outputs": [
    {
     "name": "stdout",
     "output_type": "stream",
     "text": [
      "15561\n"
     ]
    }
   ],
   "source": [
    "with open(\"inputs/input4.txt\") as f:\n",
    "    draw_nums = [int(x) for x in f.readline().split(\",\")]\n",
    "    board_nums = [int(x) for x in f.read().replace(\"\\n\", \" \").split(\" \") if x != \"\"]\n",
    "    board_list = [{\"win\" :False, \"board\" :np.reshape(board_nums[i : i + 25], (5, 5))} for i in range(0, len(board_nums), 25)]\n",
    "    win = False\n",
    "    win_board = []\n",
    "    win_num = -1\n",
    "    win_count = 0\n",
    "    \n",
    "    for draw in draw_nums:\n",
    "        for board in board_list:\n",
    "            if draw in board[\"board\"]:\n",
    "                board[\"board\"][board[\"board\"] == draw] = -1\n",
    "                if CheckWin(board[\"board\"]) and board[\"win\"] == False:\n",
    "                    win_board.append(board[\"board\"])\n",
    "                    win_num = draw\n",
    "                    board[\"win\"] = True\n",
    "                    win_count += 1\n",
    "            \n",
    "        if win_count == len(board_list):\n",
    "            break\n",
    "    win_board = win_board[-1]\n",
    "    win_board[win_board == -1] = 0\n",
    "    print(np.sum(win_board) * win_num) "
   ]
  },
  {
   "cell_type": "markdown",
   "metadata": {},
   "source": [
    "## Day 5"
   ]
  },
  {
   "cell_type": "markdown",
   "metadata": {
    "tags": []
   },
   "source": [
    "### Part 1"
   ]
  },
  {
   "cell_type": "code",
   "execution_count": 10,
   "metadata": {},
   "outputs": [],
   "source": [
    "def GetNumRange(num_a, num_b):\n",
    "    diff = num_b - num_a\n",
    "    step = (diff>0) - (diff<0)\n",
    "    return [i for i in range(num_a, num_b + 1*step, step)]"
   ]
  },
  {
   "cell_type": "code",
   "execution_count": 11,
   "metadata": {},
   "outputs": [],
   "source": [
    "class Point():\n",
    "    def __init__(self, x, y):\n",
    "        self.x = x\n",
    "        self.y = y\n",
    "    \n",
    "    def __repr__(self):\n",
    "        return str((self.x, self.y))"
   ]
  },
  {
   "cell_type": "code",
   "execution_count": 12,
   "metadata": {},
   "outputs": [
    {
     "name": "stdout",
     "output_type": "stream",
     "text": [
      "6283\n"
     ]
    }
   ],
   "source": [
    "with open(\"inputs/input5.txt\") as f:\n",
    "    visited_points = []\n",
    "    \n",
    "    for line in f:\n",
    "        raw_coords = [x.split(\",\") for x in line.strip().replace(\" \", \"\").split(\"->\")]\n",
    "        clean_coords = [Point(int(x[0]), int(x[1])) for x in raw_coords]\n",
    "        \n",
    "        if clean_coords[0].x == clean_coords[1].x:\n",
    "            y_list = GetNumRange(clean_coords[0].y, clean_coords[1].y)\n",
    "            x_list = [clean_coords[0].x] * len(y_list)\n",
    "        elif clean_coords[0].y == clean_coords[1].y:\n",
    "            x_list = GetNumRange(clean_coords[0].x, clean_coords[1].x)\n",
    "            y_list = [clean_coords[0].y] * len(x_list)\n",
    "        else:\n",
    "            continue\n",
    "        \n",
    "        point_list = list(zip(x_list, y_list))\n",
    "        for point in point_list:\n",
    "            visited_points.append(str(point))\n",
    "            \n",
    "print(len([x for x in np.unique(visited_points, return_counts=True)[1] if x >=2]))"
   ]
  },
  {
   "cell_type": "markdown",
   "metadata": {},
   "source": [
    "### Part 2"
   ]
  },
  {
   "cell_type": "code",
   "execution_count": 13,
   "metadata": {},
   "outputs": [
    {
     "name": "stdout",
     "output_type": "stream",
     "text": [
      "18864\n"
     ]
    }
   ],
   "source": [
    "with open(\"inputs/input5.txt\") as f:\n",
    "    visited_points = []\n",
    "    \n",
    "    for line in f:\n",
    "        raw_coords = [x.split(\",\") for x in line.strip().replace(\" \", \"\").split(\"->\")]\n",
    "        clean_coords = [Point(int(x[0]), int(x[1])) for x in raw_coords]\n",
    "        \n",
    "        if clean_coords[0].x == clean_coords[1].x:\n",
    "            y_list = GetNumRange(clean_coords[0].y, clean_coords[1].y)\n",
    "            x_list = [clean_coords[0].x] * len(y_list)\n",
    "        elif clean_coords[0].y == clean_coords[1].y:\n",
    "            x_list = GetNumRange(clean_coords[0].x, clean_coords[1].x)\n",
    "            y_list = [clean_coords[0].y] * len(x_list)\n",
    "        else:\n",
    "            x_list = GetNumRange(clean_coords[0].x, clean_coords[1].x)\n",
    "            y_list = GetNumRange(clean_coords[0].y, clean_coords[1].y)\n",
    "        \n",
    "        point_list = list(zip(x_list, y_list))\n",
    "        for point in point_list:\n",
    "            visited_points.append(str(point))\n",
    "            \n",
    "print(len([x for x in np.unique(visited_points, return_counts=True)[1] if x >=2]))"
   ]
  },
  {
   "cell_type": "markdown",
   "metadata": {
    "tags": []
   },
   "source": [
    "## Day 6"
   ]
  },
  {
   "cell_type": "markdown",
   "metadata": {},
   "source": [
    "### Part 1"
   ]
  },
  {
   "cell_type": "code",
   "execution_count": 14,
   "metadata": {},
   "outputs": [],
   "source": [
    "def ShiftDictVals(old_dict):\n",
    "    new_dict = {k : 0 for k in range(9)}\n",
    "    for i in range(8):\n",
    "        new_dict[i] = old_dict[i+1]\n",
    "        \n",
    "    return new_dict"
   ]
  },
  {
   "cell_type": "code",
   "execution_count": 15,
   "metadata": {},
   "outputs": [
    {
     "name": "stdout",
     "output_type": "stream",
     "text": [
      "375482\n"
     ]
    }
   ],
   "source": [
    "with open(\"inputs/input6.txt\") as f:\n",
    "    fish_list = [int(x) for x in f.readline().split(\",\")]\n",
    "    fish_dict = {k : 0 for k in range(9)}\n",
    "    for fish in fish_list:\n",
    "        fish_dict[fish] += 1\n",
    "        \n",
    "\n",
    "for i in range(80):\n",
    "    new_fish_dict = ShiftDictVals(fish_dict)\n",
    "    new_fish_dict[8] = fish_dict[0]\n",
    "    new_fish_dict[6] += fish_dict[0]\n",
    "    \n",
    "    fish_dict = new_fish_dict\n",
    "\n",
    "print(sum(fish_dict.values()))"
   ]
  },
  {
   "cell_type": "markdown",
   "metadata": {},
   "source": [
    "### Part 2"
   ]
  },
  {
   "cell_type": "code",
   "execution_count": 16,
   "metadata": {},
   "outputs": [
    {
     "name": "stdout",
     "output_type": "stream",
     "text": [
      "1689540415957\n"
     ]
    }
   ],
   "source": [
    "with open(\"inputs/input6.txt\") as f:\n",
    "    fish_list = [int(x) for x in f.readline().split(\",\")]\n",
    "    fish_dict = {k : 0 for k in range(9)}\n",
    "    for fish in fish_list:\n",
    "        fish_dict[fish] += 1\n",
    "        \n",
    "\n",
    "for i in range(256):\n",
    "    new_fish_dict = ShiftDictVals(fish_dict)\n",
    "    new_fish_dict[8] = fish_dict[0]\n",
    "    new_fish_dict[6] += fish_dict[0]\n",
    "    \n",
    "    fish_dict = new_fish_dict\n",
    "\n",
    "print(sum(fish_dict.values()))"
   ]
  },
  {
   "cell_type": "markdown",
   "metadata": {},
   "source": [
    "## Day 7"
   ]
  },
  {
   "cell_type": "markdown",
   "metadata": {},
   "source": [
    "### Part 1"
   ]
  },
  {
   "cell_type": "code",
   "execution_count": 17,
   "metadata": {},
   "outputs": [
    {
     "name": "stdout",
     "output_type": "stream",
     "text": [
      "356922.0\n"
     ]
    }
   ],
   "source": [
    "with open(\"inputs/input7.txt\") as f:\n",
    "    pos_list = [int(x) for x in f.readline().split(\",\")]\n",
    "    pos = np.median(pos_list)    \n",
    "    print(sum([abs(x - pos) for x in pos_list]))"
   ]
  },
  {
   "cell_type": "markdown",
   "metadata": {},
   "source": [
    "## Part 2"
   ]
  },
  {
   "cell_type": "code",
   "execution_count": 18,
   "metadata": {},
   "outputs": [],
   "source": [
    "def FuelCost(ideal_pos, curr_pos):\n",
    "    num = abs(ideal_pos - curr_pos)\n",
    "    return (num + 1) * num / 2"
   ]
  },
  {
   "cell_type": "code",
   "execution_count": 19,
   "metadata": {},
   "outputs": [
    {
     "name": "stdout",
     "output_type": "stream",
     "text": [
      "100347031.0\n"
     ]
    }
   ],
   "source": [
    "with open(\"inputs/input7.txt\") as f:\n",
    "    pos_list = [int(x) for x in f.readline().split(\",\")]\n",
    "    min_dist = sum([FuelCost(0, pos) for pos in pos_list])\n",
    "    min_pos = 0\n",
    "    for x in range(min(pos_list), max(pos_list)):\n",
    "        dist = sum([FuelCost(x, pos) for pos in pos_list])\n",
    "        if dist < min_dist:\n",
    "            min_dist = dist\n",
    "            min_pos = x\n",
    "    \n",
    "    ideal_pos = min_pos\n",
    "\n",
    "print(sum([FuelCost(ideal_pos, x) for x in pos_list]))"
   ]
  },
  {
   "cell_type": "markdown",
   "metadata": {},
   "source": [
    "## Day 8"
   ]
  },
  {
   "cell_type": "markdown",
   "metadata": {},
   "source": [
    "### Part 1"
   ]
  },
  {
   "cell_type": "code",
   "execution_count": 20,
   "metadata": {},
   "outputs": [
    {
     "name": "stdout",
     "output_type": "stream",
     "text": [
      "383\n"
     ]
    }
   ],
   "source": [
    "with open(\"inputs/input8.txt\") as f:\n",
    "    total = 0\n",
    "    for line in f:\n",
    "        input_list, output_list = line.strip().split(\"|\")\n",
    "        input_list = input_list.split(\" \")\n",
    "        output_list = output_list.split(\" \")\n",
    "        #print(\"O\", output_list)\n",
    "        unique_vals = [x for x in output_list if len(x) in [2, 4, 3, 7]]\n",
    "        #print(unique_vals)\n",
    "        total += len(unique_vals)\n",
    "        \n",
    "print(total)"
   ]
  },
  {
   "cell_type": "markdown",
   "metadata": {
    "tags": []
   },
   "source": [
    "### Part 2"
   ]
  },
  {
   "cell_type": "code",
   "execution_count": 21,
   "metadata": {},
   "outputs": [],
   "source": [
    "def GetEncodeDict(input_list):\n",
    "    encode_dict = {k : \"\" for k in range(0, 10)}\n",
    "    real_dict = {k : -1 for k in input_list}\n",
    "    \n",
    "    for input_code in input_list:\n",
    "        if len(input_code) == 2:\n",
    "            num = 1\n",
    "        elif len(input_code) == 3:\n",
    "            num = 7\n",
    "        elif len(input_code) == 4:\n",
    "            num = 4\n",
    "        elif len(input_code) == 7:\n",
    "            num = 8\n",
    "        else:\n",
    "            continue\n",
    "            \n",
    "        encode_dict[num] = input_code\n",
    "        real_dict[\"\".join(sorted(input_code))] = num\n",
    "        \n",
    "    for input_code in input_list:\n",
    "        if len(input_code) == 5:\n",
    "            if len(set(input_code).intersection(encode_dict[7])) == 3:\n",
    "                num = 3\n",
    "            elif len(set(input_code).intersection(encode_dict[4])) == 3:\n",
    "                num = 5\n",
    "            else:\n",
    "                num = 2\n",
    "        elif len(input_code) == 6:\n",
    "            if len(set(input_code).intersection(encode_dict[1])) == 1:\n",
    "                num = 6\n",
    "            elif len(set(input_code).intersection(encode_dict[7])) == 3 and len(set(input_code).intersection(encode_dict[4])) == 3:\n",
    "                num = 0\n",
    "            else:\n",
    "                num = 9      \n",
    "        else:\n",
    "            continue\n",
    "                \n",
    "        encode_dict[num] = input_code\n",
    "        real_dict[\"\".join(sorted(input_code))] = num\n",
    "            \n",
    "    return real_dict"
   ]
  },
  {
   "cell_type": "code",
   "execution_count": 22,
   "metadata": {},
   "outputs": [
    {
     "name": "stdout",
     "output_type": "stream",
     "text": [
      "998900\n"
     ]
    }
   ],
   "source": [
    "with open(\"inputs/input8.txt\") as f:\n",
    "    total = 0\n",
    "    for line in f:\n",
    "        input_list, output_list = line.strip().split(\"|\")\n",
    "        input_list = input_list.split(\" \")\n",
    "        output_list = output_list.split(\" \")\n",
    "        encode_dict = GetEncodeDict(input_list)\n",
    "        \n",
    "        total+= int(\"\".join([str(encode_dict[\"\".join(sorted(x))]) for x in output_list if x != \"\"]))\n",
    "        \n",
    "        \n",
    "print(total)"
   ]
  },
  {
   "cell_type": "markdown",
   "metadata": {},
   "source": [
    "## Day 9"
   ]
  },
  {
   "cell_type": "markdown",
   "metadata": {},
   "source": [
    "### Part 1"
   ]
  },
  {
   "cell_type": "code",
   "execution_count": 23,
   "metadata": {},
   "outputs": [],
   "source": [
    "def GetNeighborDepth(i, j, matrix):\n",
    "    neighbors_to_check = [ (i+1, j), (i-1, j), (i, j-1), (i, j+1)]\n",
    "    neighbor_pos =  list(filter(lambda x: 0 <= x[0] < len(matrix) and 0 <= x[1] < len(matrix[0]), neighbors_to_check))\n",
    "    return [matrix[x][y] for x,y in neighbor_pos]"
   ]
  },
  {
   "cell_type": "code",
   "execution_count": 24,
   "metadata": {},
   "outputs": [
    {
     "name": "stdout",
     "output_type": "stream",
     "text": [
      "423\n"
     ]
    }
   ],
   "source": [
    "with open(\"inputs/input9.txt\") as f:\n",
    "    matrix = []\n",
    "    total = 0\n",
    "    for line in f:\n",
    "        matrix.append([int(x) for x in list(line.strip())])\n",
    "        \n",
    "    for i in range(len(matrix)):\n",
    "        for j in range(len(matrix[0])):\n",
    "            min_neighbor = min(GetNeighborDepth(i, j, matrix))\n",
    "            if matrix[i][j] < min_neighbor:\n",
    "                total += (matrix[i][j] + 1)\n",
    "            \n",
    "print(total)"
   ]
  },
  {
   "cell_type": "markdown",
   "metadata": {},
   "source": [
    "### Part 2"
   ]
  },
  {
   "cell_type": "code",
   "execution_count": 25,
   "metadata": {},
   "outputs": [],
   "source": [
    "def GetNeighborPos(i, j, matrix):\n",
    "    neighbors_to_check = [ (i+1, j), (i-1, j), (i, j-1), (i, j+1)]\n",
    "    neighbor_pos =  list(filter(lambda x: 0 <= x[0] < len(matrix) and 0 <= x[1] < len(matrix[0]), neighbors_to_check))\n",
    "    return [ (x, y) for x, y in neighbor_pos if matrix[x][y] >= matrix[i][j] and matrix[x][y] != 9]"
   ]
  },
  {
   "cell_type": "code",
   "execution_count": 26,
   "metadata": {
    "tags": []
   },
   "outputs": [],
   "source": [
    "def GetBasinSize(min_site, matrix):\n",
    "    sites_to_visit = [min_site]\n",
    "    visited = []\n",
    "    while len(sites_to_visit) > 0:\n",
    "        if sites_to_visit[0] in visited:\n",
    "            sites_to_visit.pop(0)\n",
    "            continue\n",
    "        i, j = sites_to_visit[0]\n",
    "        sites_to_visit += GetNeighborPos(i, j, matrix)\n",
    "        visited.append(sites_to_visit.pop(0))\n",
    "        \n",
    "    return len(set(visited))"
   ]
  },
  {
   "cell_type": "code",
   "execution_count": 27,
   "metadata": {},
   "outputs": [
    {
     "name": "stdout",
     "output_type": "stream",
     "text": [
      "1198704\n"
     ]
    }
   ],
   "source": [
    "with open(\"inputs/input9.txt\") as f:\n",
    "    matrix = []\n",
    "    visit_matrix = []\n",
    "    min_sites = []\n",
    "    for line in f:\n",
    "        row = [int(x) for x in list(line.strip())]\n",
    "        matrix.append(row)\n",
    "        visit_matrix.append([0] * len(row))\n",
    "        \n",
    "    for i in range(len(matrix)):\n",
    "        for j in range(len(matrix[0])):\n",
    "            min_neighbor = min(GetNeighborDepth(i, j, matrix))\n",
    "            if matrix[i][j] < min_neighbor:\n",
    "                min_sites.append((i, j))\n",
    "    \n",
    "    \n",
    "    top_basins = sorted([GetBasinSize(site, matrix) for site in min_sites])[-3:]\n",
    "print(top_basins[0] * top_basins[1] * top_basins[2])"
   ]
  },
  {
   "cell_type": "markdown",
   "metadata": {},
   "source": [
    "## Day 10"
   ]
  },
  {
   "cell_type": "markdown",
   "metadata": {},
   "source": [
    "### Part 1"
   ]
  },
  {
   "cell_type": "code",
   "execution_count": 28,
   "metadata": {},
   "outputs": [
    {
     "name": "stdout",
     "output_type": "stream",
     "text": [
      "323613\n"
     ]
    }
   ],
   "source": [
    "with open(\"inputs/inputday10.txt\") as f:\n",
    "    stack = []\n",
    "    error_sum = 0\n",
    "    open_chars = \"[{(<\"\n",
    "    close_chars = \"]})>\"\n",
    "    \n",
    "    error_vals = {    \n",
    "        ')' : 3,\n",
    "        ']' : 57,\n",
    "        '}' : 1197,\n",
    "        '>' : 25137 }\n",
    "\n",
    "    for line in f:\n",
    "        for char in line.strip():\n",
    "            if char in open_chars:\n",
    "                stack.append(char)\n",
    "            elif char in close_chars:\n",
    "                if open_chars.index(stack[-1]) == close_chars.index(char):\n",
    "                    stack.pop(-1)\n",
    "                else:\n",
    "                    error_sum += error_vals[char]\n",
    "                    break\n",
    "                    \n",
    "print(error_sum)       "
   ]
  },
  {
   "cell_type": "code",
   "execution_count": 29,
   "metadata": {},
   "outputs": [
    {
     "name": "stdout",
     "output_type": "stream",
     "text": [
      "3103006161.0\n"
     ]
    }
   ],
   "source": [
    "import numpy as np\n",
    "with open(\"inputs/inputday10.txt\") as f:\n",
    "    open_chars = \"[{(<\"\n",
    "    close_chars = \"]})>\"\n",
    "    final_sums = []\n",
    "    error_vals = {    \n",
    "        ')' : 3,\n",
    "        ']' : 57,\n",
    "        '}' : 1197,\n",
    "        '>' : 25137 }\n",
    "    \n",
    "    incomp_vals = {\n",
    "        ')': 1,\n",
    "        ']': 2,\n",
    "        '}': 3,\n",
    "        '>': 4 }\n",
    "\n",
    "    for line in f:\n",
    "        valid = True\n",
    "        stack = []\n",
    "        for char in line.strip():\n",
    "            if char in open_chars:\n",
    "                stack.append(char)\n",
    "            elif char in close_chars:\n",
    "                if open_chars.index(stack[-1]) == close_chars.index(char):\n",
    "                    stack.pop(-1)\n",
    "                else:\n",
    "                    valid = False\n",
    "                    break\n",
    "        \n",
    "        if valid:\n",
    "            close_sum = 0\n",
    "            stack.reverse()\n",
    "            for char in stack:\n",
    "                close_char = close_chars[open_chars.index(char)]\n",
    "                close_sum *= 5\n",
    "                close_sum += incomp_vals[close_char]\n",
    "            \n",
    "            final_sums.append(close_sum)\n",
    "                    \n",
    "print(np.median(final_sums))     "
   ]
  },
  {
   "cell_type": "markdown",
   "metadata": {},
   "source": [
    "## Day 11"
   ]
  },
  {
   "cell_type": "markdown",
   "metadata": {},
   "source": [
    "### Part 1"
   ]
  },
  {
   "cell_type": "code",
   "execution_count": 4,
   "metadata": {},
   "outputs": [],
   "source": [
    "def PrintMatrix(matrix):\n",
    "    for line in matrix:\n",
    "        print(line)"
   ]
  },
  {
   "cell_type": "code",
   "execution_count": 58,
   "metadata": {},
   "outputs": [],
   "source": [
    "class Point():\n",
    "    def __init__(self, x, y):\n",
    "        self.x = x\n",
    "        self.y = y\n",
    "    \n",
    "    def __repr__(self):\n",
    "        return str((self.x, self.y))\n",
    "    \n",
    "    def __eq__(self, other):\n",
    "        if self.x == other.x and self.y == other.y:\n",
    "            return True\n",
    "        return False"
   ]
  },
  {
   "cell_type": "code",
   "execution_count": 62,
   "metadata": {},
   "outputs": [],
   "source": [
    "def GetFlashList(matrix):\n",
    "    flash_list = []\n",
    "    for x, _ in enumerate(matrix):\n",
    "        for y, y_val in enumerate(matrix[x]):\n",
    "            if y_val > 9:\n",
    "                flash_list.append(Point(x, y))\n",
    "                matrix[x][y] = 0\n",
    "                \n",
    "    return flash_list"
   ]
  },
  {
   "cell_type": "code",
   "execution_count": 26,
   "metadata": {},
   "outputs": [],
   "source": [
    "def GetNeighbors(point):\n",
    "    neighbor_offsets = [(-1, -1), (-1, 0), (-1, 1), (0, -1), (0, 1), (1, -1), (1, 0), (1, 1)]\n",
    "    neighbors = [Point(point.x + off[0], point.y + off[1]) for off in neighbor_offsets]\n",
    "    \n",
    "    return neighbors"
   ]
  },
  {
   "cell_type": "code",
   "execution_count": 66,
   "metadata": {},
   "outputs": [],
   "source": [
    "def CountFlashes(matrix):\n",
    "    count = 0\n",
    "    for x, _ in enumerate(matrix):\n",
    "        for y, y_val in enumerate(matrix[x]):\n",
    "            if y_val == 0:\n",
    "                count += 1\n",
    "        \n",
    "        #print(\"COUNT\", count)\n",
    "                \n",
    "    return count"
   ]
  },
  {
   "cell_type": "code",
   "execution_count": 71,
   "metadata": {},
   "outputs": [
    {
     "name": "stdout",
     "output_type": "stream",
     "text": [
      "1723\n"
     ]
    }
   ],
   "source": [
    "import numpy as np\n",
    "with open(\"inputs/inputday11.txt\") as f:\n",
    "    matrix = []\n",
    "    for line in f:\n",
    "        matrix.append([int(x) for x in line.strip()])\n",
    "        \n",
    "    matrix = np.array(matrix)\n",
    "    \n",
    "\n",
    "total = 0   \n",
    "for step in range(100):\n",
    "    matrix += 1\n",
    "    flash_list = GetFlashList(matrix)\n",
    "    \n",
    "    while len(flash_list) != 0:\n",
    "        neighbor_list = []\n",
    "        for flash in flash_list:\n",
    "            neighbor_list += GetNeighbors(flash)\n",
    "             \n",
    "        for neighbor in neighbor_list:\n",
    "            if neighbor.x < 0 or neighbor.x > 9:\n",
    "                continue\n",
    "                \n",
    "            if neighbor.y < 0 or neighbor.y > 9:\n",
    "                continue\n",
    "                \n",
    "            if matrix[neighbor.x][neighbor.y] != 0:\n",
    "                matrix[neighbor.x][neighbor.y] += 1\n",
    "            \n",
    "        flash_list = GetFlashList(matrix)  \n",
    "    \n",
    "    total += CountFlashes(matrix)\n",
    "    \n",
    "print(total)"
   ]
  },
  {
   "cell_type": "markdown",
   "metadata": {},
   "source": [
    "### Part 2"
   ]
  },
  {
   "cell_type": "code",
   "execution_count": 81,
   "metadata": {},
   "outputs": [
    {
     "name": "stdout",
     "output_type": "stream",
     "text": [
      "327\n"
     ]
    }
   ],
   "source": [
    "import numpy as np\n",
    "with open(\"inputs/inputday11.txt\") as f:\n",
    "    matrix = []\n",
    "    for line in f:\n",
    "        matrix.append([int(x) for x in line.strip()])\n",
    "        \n",
    "    matrix = np.array(matrix)\n",
    "    \n",
    "\n",
    "total = 0\n",
    "step = 0\n",
    "while True:\n",
    "    matrix += 1\n",
    "    flash_list = GetFlashList(matrix)\n",
    "    \n",
    "    while len(flash_list) != 0:\n",
    "        neighbor_list = []\n",
    "        for flash in flash_list:\n",
    "            neighbor_list += GetNeighbors(flash)\n",
    "             \n",
    "        for neighbor in neighbor_list:\n",
    "            if neighbor.x < 0 or neighbor.x > 9:\n",
    "                continue\n",
    "                \n",
    "            if neighbor.y < 0 or neighbor.y > 9:\n",
    "                continue\n",
    "                \n",
    "            if matrix[neighbor.x][neighbor.y] != 0:\n",
    "                matrix[neighbor.x][neighbor.y] += 1\n",
    "            \n",
    "        flash_list = GetFlashList(matrix)  \n",
    "    \n",
    "    step += 1\n",
    "    if CountFlashes(matrix) == 100:\n",
    "        print(step)\n",
    "        break\n",
    "    \n",
    "        "
   ]
  },
  {
   "cell_type": "markdown",
   "metadata": {},
   "source": [
    "## Day 12"
   ]
  },
  {
   "cell_type": "markdown",
   "metadata": {},
   "source": [
    "### Part 1"
   ]
  },
  {
   "cell_type": "code",
   "execution_count": 86,
   "metadata": {},
   "outputs": [
    {
     "name": "stdout",
     "output_type": "stream",
     "text": [
      "3679\n"
     ]
    }
   ],
   "source": [
    "import functools\n",
    "from collections import defaultdict\n",
    "from typing import Set, List, Dict\n",
    "with open(\"inputs/inputday12.txt\") as f:\n",
    "    graph = {}\n",
    "    for line in f:\n",
    "        cave_a, cave_b = line.strip().split(\"-\")\n",
    "        \n",
    "        if cave_a not in graph.keys():\n",
    "            graph[cave_a] = []\n",
    "        if cave_b not in graph.keys():\n",
    "            graph[cave_b] = []\n",
    "            \n",
    "        graph[cave_a].append(cave_b)\n",
    "        graph[cave_b].append(cave_a)\n",
    "        \n",
    "\n",
    "def depthSearch(point, path: List[str], smalls: Set[str], completedPaths: List[List[str]], graph: Dict[str, set[str]]):\n",
    "    path.extend([point])\n",
    "    if point == 'end':\n",
    "        completedPaths.append(path)\n",
    "        return\n",
    "\n",
    "    for neighbor in filter(lambda p: p not in smalls and p != \"start\", graph[point]):\n",
    "        if neighbor.islower():\n",
    "            smalls.add(neighbor)\n",
    "            depthSearch(neighbor, path, smalls, completedPaths, graph)\n",
    "            smalls.remove(neighbor)\n",
    "            path.pop()\n",
    "        else:\n",
    "            depthSearch(neighbor, path, smalls, completedPaths, graph)\n",
    "            path.pop()\n",
    "\n",
    "\n",
    "done_paths = []\n",
    "depthSearch(\"start\", [], set(), done_paths, graph)\n",
    "print(len(done_paths))"
   ]
  },
  {
   "cell_type": "code",
   "execution_count": 87,
   "metadata": {},
   "outputs": [
    {
     "name": "stdout",
     "output_type": "stream",
     "text": [
      "107395\n"
     ]
    }
   ],
   "source": [
    "def depthSearch(point, path: List[str], smalls: Set[str], completedPaths: List[List[str]], graph: Dict[str, set[str]], twiced: bool):\n",
    "    path.extend([point])\n",
    "    if point == 'end':\n",
    "        completedPaths.append(path)\n",
    "        return\n",
    "\n",
    "    for neighbor in filter(lambda p: p != \"start\", graph[point]):\n",
    "        if neighbor.islower():\n",
    "            if neighbor in smalls:\n",
    "                if not twiced:\n",
    "                    depthSearch(neighbor, path, smalls, completedPaths, graph, True)\n",
    "            else:\n",
    "                smalls.add(neighbor)\n",
    "                depthSearch(neighbor, path, smalls, completedPaths, graph, twiced)\n",
    "                smalls.remove(neighbor)\n",
    "                path.pop()\n",
    "        else:\n",
    "            depthSearch(neighbor, path, smalls, completedPaths, graph, twiced)\n",
    "            path.pop()\n",
    "\n",
    "\n",
    "done_paths = []\n",
    "depthSearch(\"start\", [], set(), done_paths, graph, False)\n",
    "print(len(done_paths))"
   ]
  },
  {
   "cell_type": "code",
   "execution_count": null,
   "metadata": {},
   "outputs": [],
   "source": []
  }
 ],
 "metadata": {
  "kernelspec": {
   "display_name": "Python 3 (ipykernel)",
   "language": "python",
   "name": "python3"
  },
  "language_info": {
   "codemirror_mode": {
    "name": "ipython",
    "version": 3
   },
   "file_extension": ".py",
   "mimetype": "text/x-python",
   "name": "python",
   "nbconvert_exporter": "python",
   "pygments_lexer": "ipython3",
   "version": "3.10.0"
  }
 },
 "nbformat": 4,
 "nbformat_minor": 4
}
